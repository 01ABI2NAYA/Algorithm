{
 "cells": [
  {
   "cell_type": "code",
   "execution_count": 44,
   "id": "3e788e61-1530-42d6-87a9-e6613b4800ca",
   "metadata": {},
   "outputs": [
    {
     "name": "stdout",
     "output_type": "stream",
     "text": [
      "S -> A -> F\n",
      "S -> B -> C -> E -> F\n",
      "S -> B -> D -> F\n"
     ]
    }
   ],
   "source": [
    "def bms(graph, start, goal, path=[]):\n",
    "    path = path + [start]\n",
    "    if start == goal:\n",
    "        return [path]\n",
    "    paths = []\n",
    "    for next_vertex in graph[start]:\n",
    "        if next_vertex not in path:\n",
    "            new_paths = bms(graph, next_vertex, goal, path)\n",
    "            for new_path in new_paths:\n",
    "                paths.append(new_path)\n",
    "    return paths\n",
    "\n",
    "# Define the graph\n",
    "graph = {\n",
    "    'S': ['A', 'B'],\n",
    "    'A': ['F'],\n",
    "    'B': ['C', 'D'],\n",
    "    'D': ['F'],\n",
    "    'C': ['E'],\n",
    "    'E': ['F']\n",
    "}\n",
    "\n",
    "# Call the BMS function\n",
    "start_vertex = 'S'\n",
    "goal_vertex = 'F'\n",
    "all_paths = bms(graph, start_vertex, goal_vertex)\n",
    "\n",
    "# Print all possible paths\n",
    "for path in all_paths:\n",
    "    print(' -> '.join(path))\n",
    "\n"
   ]
  },
  {
   "cell_type": "code",
   "execution_count": 45,
   "id": "69873715-7961-4f42-bbc4-1339fe24a6d3",
   "metadata": {},
   "outputs": [
    {
     "name": "stdout",
     "output_type": "stream",
     "text": [
      "['S', 'A', 'F']\n"
     ]
    }
   ],
   "source": [
    "from collections import deque\n",
    "\n",
    "def bfs_shortest_path(graph, start, end):\n",
    "    queue = deque([(start, [start])])\n",
    "    while queue:\n",
    "        node, path = queue.popleft()\n",
    "        if node == end:\n",
    "            return path\n",
    "        for adjacent_node in sorted(graph[node]):\n",
    "            if adjacent_node not in path:\n",
    "                queue.append((adjacent_node, path + [adjacent_node]))\n",
    "\n",
    "# Define the graph\n",
    "graph = {\n",
    "    'S': ['A', 'B'],\n",
    "    'A': ['F'],\n",
    "    'B': ['C', 'D'],\n",
    "    'D': ['F'],\n",
    "    'C': ['E'],\n",
    "    'E': ['F']\n",
    "}\n",
    "\n",
    "# Call the BFS shortest path function\n",
    "start_vertex = 'S'\n",
    "end_vertex = 'F'\n",
    "shortest_path = bfs_shortest_path(graph, start_vertex, end_vertex)\n",
    "print(shortest_path)\n"
   ]
  },
  {
   "cell_type": "code",
   "execution_count": 51,
   "id": "2f15d238-a7d1-402d-8be6-5b9945a6e384",
   "metadata": {},
   "outputs": [
    {
     "name": "stdout",
     "output_type": "stream",
     "text": [
      "['S', 'A', 'F']\n"
     ]
    }
   ],
   "source": [
    "def dfs_greedy_path(graph, start, end, visited=None, path=None):\n",
    "    if visited is None:\n",
    "        visited = set()\n",
    "    if path is None:\n",
    "        path = []\n",
    "    visited.add(start)\n",
    "    path.append(start)\n",
    "    if start == end:\n",
    "        return path\n",
    "    for adjacent_node in sorted(graph[start]):\n",
    "        if adjacent_node not in visited:\n",
    "            new_path = dfs_greedy_path(graph, adjacent_node, end, visited, path)\n",
    "            if new_path:\n",
    "                return new_path\n",
    "    path.pop()\n",
    "\n",
    "# Define the graph\n",
    "graph = {\n",
    "    'S': ['A', 'B'],\n",
    "    'A': ['F'],\n",
    "    'B': ['C', 'D'],\n",
    "    'D': ['F'],\n",
    "    'C': ['E'],\n",
    "    'E': ['F']\n",
    "}\n",
    "\n",
    "# Call the DFS greedy path function\n",
    "start_vertex = 'S'\n",
    "end_vertex = 'F'\n",
    "greedy_path = dfs_greedy_path(graph, start_vertex, end_vertex)\n",
    "print(greedy_path)\n"
   ]
  },
  {
   "cell_type": "code",
   "execution_count": 58,
   "id": "4cc3db5e-7dae-4f20-bc8a-d49a405bb39d",
   "metadata": {},
   "outputs": [
    {
     "name": "stdout",
     "output_type": "stream",
     "text": [
      "['A', 'F']\n"
     ]
    }
   ],
   "source": [
    "import heapq\n",
    "\n",
    "def heuristic_search(graph, start, end):\n",
    "    # Create a priority queue to store the nodes to be explored\n",
    "    priority_queue = [(0, start)]\n",
    "    # Create a dictionary to store the cost of reaching each node from the start node\n",
    "    cost_so_far = {start: 0}\n",
    "    # Create a dictionary to store the path from the start node to each node\n",
    "    path = {start: []}\n",
    "\n",
    "    while priority_queue:\n",
    "        # Get the node with the lowest cost from the priority queue\n",
    "        current_cost, current_node = heapq.heappop(priority_queue)\n",
    "\n",
    "        if current_node == end:\n",
    "            # Return the path to the end node\n",
    "            return path[current_node]\n",
    "\n",
    "        for neighbor, weight in graph[current_node].items():\n",
    "            # Calculate the new cost to reach the neighbor node\n",
    "            new_cost = cost_so_far[current_node] + weight\n",
    "            if neighbor not in cost_so_far or new_cost < cost_so_far[neighbor]:\n",
    "                # Update the cost and path for the neighbor node\n",
    "                cost_so_far[neighbor] = new_cost\n",
    "                heapq.heappush(priority_queue, (new_cost, neighbor))\n",
    "                # Update the path to the neighbor node\n",
    "                path[neighbor] = path[current_node] + [neighbor]\n",
    "\n",
    "    # If there is no path to the end node, return None\n",
    "    return None\n",
    "\n",
    "# Define the graph with random weights\n",
    "graph = {\n",
    "    'S': {'A': 2, 'B': 3},\n",
    "    'A': {'F': 5},\n",
    "    'B': {'C': 1, 'D': 2},\n",
    "    'D': {'F': 4},\n",
    "    'C': {'E': 2},\n",
    "    'E': {'F': 3}\n",
    "}\n",
    "\n",
    "# Call the heuristic search function\n",
    "start_node = 'S'\n",
    "end_node = 'F'\n",
    "heuristic_path = heuristic_search(graph, start_node, end_node)\n",
    "print(heuristic_path)\n"
   ]
  },
  {
   "cell_type": "code",
   "execution_count": 59,
   "id": "f64c21b1-9e0f-4d11-8d93-b6ddfcef38f5",
   "metadata": {},
   "outputs": [
    {
     "name": "stdout",
     "output_type": "stream",
     "text": [
      "['S', 'A', 'F']\n"
     ]
    }
   ],
   "source": [
    "from queue import PriorityQueue\n",
    "\n",
    "def beam_search(graph, start, goal, width):\n",
    "    queue = PriorityQueue()\n",
    "    queue.put((0, [start]))\n",
    "\n",
    "    while not queue.empty():\n",
    "        cost, path = queue.get()\n",
    "        node = path[-1]\n",
    "\n",
    "        if node == goal:\n",
    "            return path\n",
    "\n",
    "        if len(path) <= width:\n",
    "            for neighbor, weight in graph[node].items():\n",
    "                new_cost = cost + weight\n",
    "                new_path = path + [neighbor]\n",
    "                queue.put((new_cost, new_path))\n",
    "\n",
    "    return None\n",
    "\n",
    "# Example usage:\n",
    "path = beam_search(graph, 'S', 'F', 2)\n",
    "print(path)\n"
   ]
  },
  {
   "cell_type": "code",
   "execution_count": 60,
   "id": "370490ad-3444-406b-b2a7-a99446de4009",
   "metadata": {},
   "outputs": [
    {
     "name": "stdout",
     "output_type": "stream",
     "text": [
      "['S', 'D', 'G']\n"
     ]
    }
   ],
   "source": [
    "from collections import deque\n",
    "\n",
    "def bfs_shortest_path(graph, start, goal):\n",
    "    queue = deque([(start, [start])])\n",
    "\n",
    "    while queue:\n",
    "        node, path = queue.popleft()\n",
    "\n",
    "        if node == goal:\n",
    "            return path\n",
    "\n",
    "        neighbors = graph.get(node, {})\n",
    "\n",
    "        for neighbor in neighbors:\n",
    "            if neighbor not in path:\n",
    "                queue.append((neighbor, path + [neighbor]))\n",
    "\n",
    "    return None\n",
    "\n",
    "# Example usage:\n",
    "graph = {\n",
    "    'S': {'A':1, 'D':3},\n",
    "    'A': {'B':3},\n",
    "    'B': {'C':1,'G':1},\n",
    "    'C': {'G':1},\n",
    "    'D': {'G':1}\n",
    "}\n",
    "\n",
    "start = 'S'\n",
    "goal = 'G'\n",
    "shortest_path = bfs_shortest_path(graph, start, goal)\n",
    "print(shortest_path)\n",
    "\n"
   ]
  },
  {
   "cell_type": "code",
   "execution_count": 63,
   "id": "b1a90f93-2eac-4f3e-b60d-2636025d912f",
   "metadata": {},
   "outputs": [
    {
     "name": "stdout",
     "output_type": "stream",
     "text": [
      "Path found: ['S', 'D', 'G']\n"
     ]
    }
   ],
   "source": [
    "def dfs(graph, start, goal):\n",
    "    stack = [(start, [start])]  \n",
    "    visited = set() \n",
    "\n",
    "    while stack:\n",
    "        (node, path) = stack.pop()  \n",
    "\n",
    "        if node not in visited:\n",
    "            visited.add(node)\n",
    "\n",
    "            if node == goal:\n",
    "                return path  \n",
    "\n",
    "            for neighbor, weight in graph.get(node, {}).items():\n",
    "                if neighbor not in visited:\n",
    "                    stack.append((neighbor, path + [neighbor])) \n",
    "\n",
    "    return None  # If no path is found, return None\n",
    "\n",
    "# Define your graph\n",
    "graph = {\n",
    "    'S': {'A': 1, 'D': 3},\n",
    "    'A': {'B': 3},\n",
    "    'B': {'C': 1, 'G': 1},\n",
    "    'C': {'G': 1},\n",
    "    'D': {'G': 1}\n",
    "}\n",
    "\n",
    "# Specify the start and goal nodes\n",
    "start_node = 'S'\n",
    "goal_node = 'G'\n",
    "\n",
    "result = dfs(graph, start_node, goal_node)\n",
    "if result:\n",
    "    print(\"Path found:\", result)\n",
    "else:\n",
    "    print(\"No path found.\")\n"
   ]
  },
  {
   "cell_type": "code",
   "execution_count": null,
   "id": "2ec75ac5-c42a-4972-93ab-4d5685ef2dd4",
   "metadata": {},
   "outputs": [],
   "source": []
  }
 ],
 "metadata": {
  "kernelspec": {
   "display_name": "Python 3 (ipykernel)",
   "language": "python",
   "name": "python3"
  },
  "language_info": {
   "codemirror_mode": {
    "name": "ipython",
    "version": 3
   },
   "file_extension": ".py",
   "mimetype": "text/x-python",
   "name": "python",
   "nbconvert_exporter": "python",
   "pygments_lexer": "ipython3",
   "version": "3.11.5"
  }
 },
 "nbformat": 4,
 "nbformat_minor": 5
}
